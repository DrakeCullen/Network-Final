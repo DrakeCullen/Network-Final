{
 "cells": [
  {
   "cell_type": "code",
   "execution_count": 1,
   "metadata": {},
   "outputs": [],
   "source": [
    "import kattis\n",
    "user = kattis.auth('drake-cullen', 'mBz935r20O*C')\n",
    "\n",
    "problems = user.problems(35)"
   ]
  },
  {
   "cell_type": "code",
   "execution_count": 12,
   "metadata": {},
   "outputs": [],
   "source": [
    "import requests\n",
    "import bs4\n",
    "dates_and_difficulty = []\n",
    "\n",
    "login = {\"user\": \"drake-cullen\", \"password\": \"mBz935r20O*C\", \"script\": \"true\"}\n",
    "res = requests.post(\"https://open.kattis.com/login\", data=login)\n",
    "data={\"script\":\"true\"}\n",
    "\n",
    "\n",
    "for problem in problems:\n",
    "    result = requests.get(f\"https://open.kattis.com/users/drake-cullen/submissions/{problem}\",data=data,cookies=res.cookies)\n",
    "    soup = bs4.BeautifulSoup(result.text, \"html.parser\")\n",
    "    my_attributes = soup.find_all(\"td\",class_=\"middle\",attrs={\"data-type\" : \"time\"})\n",
    "    try:\n",
    "        date = my_attributes[-1].text.strip()\n",
    "        date = date.split()[0]\n",
    "        difficulty = problems[problem]['info'][\"difficulty\"]\n",
    "        if difficulty.count('.') > 1:\n",
    "            difficulty = \".\".join(difficulty.split(\".\", 2)[:2])\n",
    "        dates_and_difficulty.append([difficulty, date])\n",
    "    except:\n",
    "        pass\n",
    "    #res = json.loads(problem)\n",
    "    #print(res)"
   ]
  },
  {
   "cell_type": "code",
   "execution_count": 13,
   "metadata": {},
   "outputs": [],
   "source": [
    "from datetime import datetime\n",
    "\n",
    "sorted_dates_and_difficulty = []\n",
    "\n",
    "for diff, date in dates_and_difficulty:\n",
    "    d = datetime.strptime(date, '%Y-%m-%d')\n",
    "    sorted_dates_and_difficulty.append([diff, d])"
   ]
  },
  {
   "cell_type": "code",
   "execution_count": 23,
   "metadata": {},
   "outputs": [],
   "source": [
    "sorted_dates_and_difficulty.sort(key=lambda y: y[1])"
   ]
  },
  {
   "cell_type": "code",
   "execution_count": 29,
   "metadata": {},
   "outputs": [],
   "source": [
    "from datetime import datetime, timedelta\n",
    "import copy\n",
    "\n",
    "month_vals = []\n",
    "score = 0\n",
    "\n",
    "startDate = datetime(2019, 7, 10)\n",
    "endDate = datetime.now()\n",
    " \n",
    "# stores 31 days that can be added\n",
    "addDays = timedelta(days=31)\n",
    "\n",
    "cop = copy.deepcopy(sorted_dates_and_difficulty)\n",
    " \n",
    "while startDate <= endDate:\n",
    "    while(len(cop) > 0 and cop[0][1] <= startDate):\n",
    "        score += float(cop[0][0])\n",
    "        cop.pop(0)\n",
    "    month_vals.append(score)\n",
    "    startDate += addDays\n",
    "\n"
   ]
  },
  {
   "cell_type": "code",
   "execution_count": 30,
   "metadata": {},
   "outputs": [
    {
     "name": "stdout",
     "output_type": "stream",
     "text": [
      "[0, 0, 14.500000000000002, 22.500000000000004, 22.500000000000004, 27.300000000000004, 27.300000000000004, 28.900000000000006, 55.3, 152.5, 155.79999999999998, 183.19999999999993, 188.39999999999995, 205.7, 301.80000000000007, 416.2000000000002, 483.90000000000015, 510.5000000000001, 529.1, 583.7000000000002, 606.8000000000003, 624.1100000000002, 640.1400000000003, 687.9400000000003, 687.9400000000003, 691.6400000000003, 705.3700000000002, 745.7700000000002, 795.1700000000001, 884.8700000000001, 1033.1800000000007, 1263.3999999999999, 1419.9099999999996]\n"
     ]
    }
   ],
   "source": [
    "print(month_vals)"
   ]
  },
  {
   "cell_type": "code",
   "execution_count": 31,
   "metadata": {},
   "outputs": [
    {
     "data": {
      "text/plain": [
       "33"
      ]
     },
     "execution_count": 31,
     "metadata": {},
     "output_type": "execute_result"
    }
   ],
   "source": [
    "len(month_vals)"
   ]
  },
  {
   "cell_type": "code",
   "execution_count": null,
   "metadata": {},
   "outputs": [],
   "source": []
  }
 ],
 "metadata": {
  "interpreter": {
   "hash": "916dbcbb3f70747c44a77c7bcd40155683ae19c65e1c03b4aa3499c5328201f1"
  },
  "kernelspec": {
   "display_name": "Python 3.8.10 64-bit",
   "language": "python",
   "name": "python3"
  },
  "language_info": {
   "codemirror_mode": {
    "name": "ipython",
    "version": 3
   },
   "file_extension": ".py",
   "mimetype": "text/x-python",
   "name": "python",
   "nbconvert_exporter": "python",
   "pygments_lexer": "ipython3",
   "version": "3.8.10"
  },
  "orig_nbformat": 4
 },
 "nbformat": 4,
 "nbformat_minor": 2
}
