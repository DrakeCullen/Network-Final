{
 "cells": [
  {
   "cell_type": "code",
   "execution_count": 8,
   "metadata": {},
   "outputs": [],
   "source": [
    "import kattis\n",
    "user = kattis.auth('drake-cullen', 'mBz935r20O*C')\n",
    "\n",
    "problems = user.problems(40)"
   ]
  },
  {
   "cell_type": "code",
   "execution_count": 9,
   "metadata": {},
   "outputs": [],
   "source": [
    "import requests\n",
    "import bs4\n",
    "dates_and_difficulty = []\n",
    "\n",
    "login = {\"user\": \"drake-cullen\", \"password\": \"mBz935r20O*C\", \"script\": \"true\"}\n",
    "res = requests.post(\"https://open.kattis.com/login\", data=login)\n",
    "data={\"script\":\"true\"}\n",
    "\n",
    "\n",
    "for problem in problems:\n",
    "    result = requests.get(f\"https://open.kattis.com/users/drake-cullen/submissions/{problem}\",data=data,cookies=res.cookies)\n",
    "    soup = bs4.BeautifulSoup(result.text, \"html.parser\")\n",
    "    my_attributes = soup.find_all(\"td\",class_=\"middle\",attrs={\"data-type\" : \"time\"})\n",
    "    try:\n",
    "        date = my_attributes[-1].text.strip()\n",
    "        date = date.split()[0]\n",
    "        difficulty = problems[problem]['info'][\"difficulty\"]\n",
    "        if difficulty.count('.') > 1:\n",
    "            difficulty = \".\".join(difficulty.split(\".\", 2)[:2])\n",
    "        dates_and_difficulty.append([difficulty, date])\n",
    "    except:\n",
    "        pass\n",
    "    #res = json.loads(problem)\n",
    "    #print(res)"
   ]
  },
  {
   "cell_type": "code",
   "execution_count": 10,
   "metadata": {},
   "outputs": [],
   "source": [
    "from datetime import datetime\n",
    "\n",
    "sorted_dates_and_difficulty = []\n",
    "\n",
    "for diff, date in dates_and_difficulty:\n",
    "    d = datetime.strptime(date, '%Y-%m-%d')\n",
    "    sorted_dates_and_difficulty.append([diff, d])"
   ]
  },
  {
   "cell_type": "code",
   "execution_count": 11,
   "metadata": {},
   "outputs": [],
   "source": [
    "sorted_dates_and_difficulty.sort(key=lambda y: y[1])"
   ]
  },
  {
   "cell_type": "code",
   "execution_count": 12,
   "metadata": {},
   "outputs": [],
   "source": [
    "from datetime import datetime, timedelta\n",
    "import copy\n",
    "\n",
    "month_vals = []\n",
    "months = []\n",
    "score = 0\n",
    "\n",
    "startDate = datetime(2019, 7, 10)\n",
    "endDate = datetime.now()\n",
    " \n",
    "addDays = timedelta(days=31)\n",
    "\n",
    "cop = copy.deepcopy(sorted_dates_and_difficulty)\n",
    " \n",
    "while startDate <= endDate:\n",
    "    while(len(cop) > 0 and cop[0][1] <= startDate):\n",
    "        score += float(cop[0][0])\n",
    "        cop.pop(0)\n",
    "    month_vals.append(score)\n",
    "    months.append(startDate)\n",
    "    startDate += addDays\n",
    "\n"
   ]
  },
  {
   "cell_type": "code",
   "execution_count": 1,
   "metadata": {},
   "outputs": [
    {
     "ename": "NameError",
     "evalue": "name 'month_vals' is not defined",
     "output_type": "error",
     "traceback": [
      "\u001b[0;31m---------------------------------------------------------------------------\u001b[0m",
      "\u001b[0;31mNameError\u001b[0m                                 Traceback (most recent call last)",
      "\u001b[0;32m/tmp/ipykernel_43523/746708090.py\u001b[0m in \u001b[0;36m<module>\u001b[0;34m\u001b[0m\n\u001b[0;32m----> 1\u001b[0;31m \u001b[0mmonth_vals\u001b[0m\u001b[0;34m\u001b[0m\u001b[0;34m\u001b[0m\u001b[0m\n\u001b[0m",
      "\u001b[0;31mNameError\u001b[0m: name 'month_vals' is not defined"
     ]
    }
   ],
   "source": [
    "month_vals"
   ]
  },
  {
   "cell_type": "code",
   "execution_count": 18,
   "metadata": {},
   "outputs": [],
   "source": [
    "lis = [x for x in range(33)]"
   ]
  },
  {
   "cell_type": "code",
   "execution_count": 22,
   "metadata": {},
   "outputs": [
    {
     "data": {
      "text/plain": [
       "2019"
      ]
     },
     "execution_count": 22,
     "metadata": {},
     "output_type": "execute_result"
    }
   ],
   "source": [
    "months[0].year"
   ]
  },
  {
   "cell_type": "code",
   "execution_count": 24,
   "metadata": {},
   "outputs": [
    {
     "data": {
      "image/png": "[encoded data removed]",
      "text/plain": [
       "<Figure size 432x288 with 1 Axes>"
      ]
     },
     "metadata": {
      "needs_background": "light"
     },
     "output_type": "display_data"
    }
   ],
   "source": [
    "import matplotlib.pyplot as plt\n",
    "\n",
    "plt.plot(lis, month_vals)\n",
    "plt.show()\n"
   ]
  },
  {
   "cell_type": "code",
   "execution_count": null,
   "metadata": {},
   "outputs": [],
   "source": []
  }
 ],
 "metadata": {
  "interpreter": {
   "hash": "916dbcbb3f70747c44a77c7bcd40155683ae19c65e1c03b4aa3499c5328201f1"
  },
  "kernelspec": {
   "display_name": "Python 3.8.10 64-bit",
   "language": "python",
   "name": "python3"
  },
  "language_info": {
   "codemirror_mode": {
    "name": "ipython",
    "version": 3
   },
   "file_extension": ".py",
   "mimetype": "text/x-python",
   "name": "python",
   "nbconvert_exporter": "python",
   "pygments_lexer": "ipython3",
   "version": "3.9.7"
  },
  "orig_nbformat": 4
 },
 "nbformat": 4,
 "nbformat_minor": 2
}
