{
 "cells": [
  {
   "cell_type": "code",
   "execution_count": 6,
   "metadata": {},
   "outputs": [
    {
     "name": "stdout",
     "output_type": "stream",
     "text": [
      "True\n"
     ]
    }
   ],
   "source": [
    "import requests\n",
    "import bs4\n",
    "\n",
    "login = {\"user\": \"drake-cullen\", \"token\": \"5a6d523abda6643cedad516122196bbb229bf0b37fc1ca74b5f7f84972ad2919\", \"script\": \"true\"}\n",
    "res = requests.post(\"https://open.kattis.com/login\", data=login)\n",
    "data={\"script\":\"true\"}\n",
    "\n",
    "result = requests.get(f\"https://open.kattis.com/problems/administrativeproblems\",data=data,cookies=res.cookies)\n",
    "soup = bs4.BeautifulSoup(result.text, \"html.parser\")\n",
    "rank = soup.find('a', attrs={'class':\"btn btn-sm btn-default solved\"})\n",
    "print(rank != None)"
   ]
  },
  {
   "cell_type": "code",
   "execution_count": 7,
   "metadata": {},
   "outputs": [
    {
     "name": "stdout",
     "output_type": "stream",
     "text": [
      "False\n"
     ]
    }
   ],
   "source": [
    "login = {\"user\": \"drake-cullen\", \"token\": \"5a6d523abda6643cedad516122196bbb229bf0b37fc1ca74b5f7f84972ad2919\", \"script\": \"true\"}\n",
    "res = requests.post(\"https://open.kattis.com/login\", data=login)\n",
    "data={\"script\":\"true\"}\n",
    "\n",
    "result = requests.get(f\"https://open.kattis.com/problems/3dprinter\",data=data,cookies=res.cookies)\n",
    "soup = bs4.BeautifulSoup(result.text, \"html.parser\")\n",
    "rank = soup.find('a', attrs={'class':\"btn btn-sm btn-default solved\"})\n",
    "print(rank != None)"
   ]
  },
  {
   "cell_type": "code",
   "execution_count": 8,
   "metadata": {},
   "outputs": [
    {
     "name": "stdout",
     "output_type": "stream",
     "text": [
      "False\n"
     ]
    }
   ],
   "source": [
    "login = {\"user\": \"drake-cullen\", \"token\": \"5a6d523abda6643cedad516122196bbb229bf0b37fc1ca74b5f7f84972ad2919\", \"script\": \"true\"}\n",
    "res = requests.post(\"https://open.kattis.com/login\", data=login)\n",
    "data={\"script\":\"true\"}\n",
    "\n",
    "result = requests.get(f\"https://open.kattis.com/problems/sequences\",data=data,cookies=res.cookies)\n",
    "soup = bs4.BeautifulSoup(result.text, \"html.parser\")\n",
    "rank = soup.find('a', attrs={'class':\"btn btn-sm btn-default solved\"})\n",
    "print(rank != None)"
   ]
  },
  {
   "cell_type": "code",
   "execution_count": 26,
   "metadata": {},
   "outputs": [],
   "source": [
    "data = rows[1].find_all('td')"
   ]
  },
  {
   "cell_type": "code",
   "execution_count": 30,
   "metadata": {},
   "outputs": [
    {
     "data": {
      "text/plain": [
       "'1515.7'"
      ]
     },
     "execution_count": 30,
     "metadata": {},
     "output_type": "execute_result"
    }
   ],
   "source": [
    "data[1].text.strip()"
   ]
  },
  {
   "cell_type": "code",
   "execution_count": null,
   "metadata": {},
   "outputs": [],
   "source": []
  }
 ],
 "metadata": {
  "interpreter": {
   "hash": "916dbcbb3f70747c44a77c7bcd40155683ae19c65e1c03b4aa3499c5328201f1"
  },
  "kernelspec": {
   "display_name": "Python 3.8.10 64-bit",
   "language": "python",
   "name": "python3"
  },
  "language_info": {
   "codemirror_mode": {
    "name": "ipython",
    "version": 3
   },
   "file_extension": ".py",
   "mimetype": "text/x-python",
   "name": "python",
   "nbconvert_exporter": "python",
   "pygments_lexer": "ipython3",
   "version": "3.8.10"
  },
  "orig_nbformat": 4
 },
 "nbformat": 4,
 "nbformat_minor": 2
}
